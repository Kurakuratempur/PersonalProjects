{
 "cells": [
  {
   "cell_type": "markdown",
   "metadata": {},
   "source": [
    "# IBM Final Capstone Project "
   ]
  },
  {
   "cell_type": "markdown",
   "metadata": {},
   "source": [
    "# -Clustering Traffic Accident by Road Features and Nearby Venues-"
   ]
  },
  {
   "cell_type": "markdown",
   "metadata": {},
   "source": [
    "## 1. Introduction"
   ]
  },
  {
   "cell_type": "markdown",
   "metadata": {},
   "source": [
    "Travelling is one of the most important aspect in human life. Many human activity depends on travelling. Human needs to travel in order to fulfill their needs such as buying basic needs, business meeting and vacating. Traveling is not limited to human-travel only, other important aspect of travelling is logistic transportation which require travel from one place to other. Houston, as the most populous city in US state of Texas needs many travelling and transporting to fulfill their citizens basic needs.\n",
    "<br>\n",
    "<br>\n",
    "Nowadays, logistic transportation has becoming more important especially in this pandemic era which makes people self-limiting its mobility. COVID-19 pandemic force people to order its basic needs and requested it to be delivered into their places, this situation makes road traffic heavier than before. This happened in Houston also, and in order to preserve stable economy and human well being, Houston government as an organization to govern people needs to solve traffic accident problem to ensure its economic and people well-being."
   ]
  },
  {
   "cell_type": "markdown",
   "metadata": {},
   "source": [
    "## 2. Problem"
   ]
  },
  {
   "cell_type": "markdown",
   "metadata": {},
   "source": [
    "There are many traffic accident in Houston in the last 4 years. We can categorize it into 4 severity level = 1,2,3, and 4. Severity level 1 is the least sever than the rest. Because the most sever traffic accident is 'Severity level 4', this project will be aiming to gain segment and cluster from traffic accident data with severity level 4."
   ]
  },
  {
   "cell_type": "markdown",
   "metadata": {},
   "source": [
    "## 3. Data"
   ]
  },
  {
   "cell_type": "markdown",
   "metadata": {},
   "source": [
    "There are 2 used data in this project:\n",
    "1. US Accident Data (2016-June 2020) by Soobhan Moosavi in kaggle, link: [DOWNLOAD HERE](https://www.kaggle.com/sobhanmoosavi/us-accidents/download) <br> This data will be used to gain latitude and longitude of accidents and use the latitude and longitude to gain nearby venues by using Foursquare API. Furthermore, this data will also be used to gain road features in the accident places.\n",
    "2. Nearby Venues Data exctracted from Foursquare by using Foursquare API <br> Nearby venues and road features will be used to cluster and segment the accident location. The resulted segmentation will help goverment to decide which segment have to be treated by which policy"
   ]
  },
  {
   "cell_type": "markdown",
   "metadata": {},
   "source": [
    "# 4. Methodology"
   ]
  },
  {
   "cell_type": "markdown",
   "metadata": {},
   "source": [
    "## 4.1 Data Pre-Processing"
   ]
  },
  {
   "cell_type": "markdown",
   "metadata": {},
   "source": [
    "Before performing any analysis and modelling, data needs to be processed into ideal raw data that can be used into modelling and analysis. Data was prepcoessed by:<br>\n",
    "1. Data Importing <br> Data was imported by 2 means of importing: Pandas importing for US accident data and Foursquare API importing for nearby venues data. \n",
    "2. Data Cleaning <br> Data was cleaned from NAN value.\n",
    "3. Data Filtering <br> Data was filtered into Houston Traffic Accident Data which have severity level of 4 only. Some of the unrelated and uneeded column is dropped for computing cost efficiency. Furthermore, data was filtered into 300 datapoints which was filtered by data which had the most distance(mi) because the maximum limit of Foursquare API call is 950 for free user. Duplicate data in latitude and longitude column is dropped.\n",
    "4. Feature Selection <br> Feature selection for clustering, two main feature that was selected to cluster the data are nearby venues and road feature"
   ]
  },
  {
   "cell_type": "markdown",
   "metadata": {},
   "source": [
    "## 4.2 Exploratory Data Analysis"
   ]
  },
  {
   "cell_type": "markdown",
   "metadata": {},
   "source": [
    "EDA is performed by descriptive statisctis and visualization.<br>\n",
    "1. Data Points Exploration <br>\n",
    "<img src='Houston Map 1.PNG'/> <br>\n",
    "Data was filtered into 300 datapoinst which all of the data are the data which have severity level 4 and located in Houston City area. Folium visualization above shows many of traffic accident severity level 4 located in downtown of Houston City. Furthermore, sever traffic accident was mostly happened in Houston City main road.\n",
    "2. Data Value Exploration <br>\n",
    "<img src='EDA Numeric.png'/><br>\n",
    "Data value was explored to know the relationship intra and inter columns. Severity have only one unique value because it was filtered to have only value of 4 before. Distance column have means and modus of 2 miles and have many outliers, same Lat and Lng. For outlier in Lat and Lng is not valid because these columns are representing location not continuous value like distance.\n",
    "<img src='EDA Numeric displot.png'/><br>\n",
    "Categorical data shows there are class imbalances in all of the road features. This is because many of the datapoints location is in the main road/highway of Houston City which does not have many road features. Furthermore, road features generally can reduce road traffic because it gives option to road controller and road users.\n",
    "<img src='EDA Categorical.png'/><br>"
   ]
  },
  {
   "cell_type": "markdown",
   "metadata": {},
   "source": [
    "## 4.3 Data Modelling"
   ]
  },
  {
   "cell_type": "markdown",
   "metadata": {},
   "source": [
    "Raw datas which consist of US accident and nearby venues is modelled into one dataframe which consist of road features and nearby venues. Road features was extracted from US Traffic Accident in Kaggle and nearby venues was extracted from Foursquare API. Raw data from kaggle consist of 3.5 million rows with 49 columns, whereas data from Foursquare API is in JSON filetype which the information can be extracted by json library in python.<br>\n",
    "<br>\n",
    "US traffic accident data was filtered to have Houston City data only. Uneeded columns was dropped. US traffic accident data columns filtered from 49 columns into only 9 columns = ID, Severity, Distance, Crossing, Give_Way, Junction, Stop, Traffic_Light, Latitude and Longitude. Column selection was based on main concept of this report: clustering traffic accident based on road features and nearby venues. Distance, Crossing, Give_Way, Junction, Stop, Traffic_Light is the road feature,whereas ID, Severity, Latitude and Longitude is for identification. Because there are 2 columns for each latitude and longitude (start and end), Latitude and Longitude was processed by calculating the middle point of the accident location ((x1+x2)/2). Latitude and longitude will be used to extract nearby venues using Foursquare API. <br>\n",
    "<br>\n",
    "<img src='Table Raw Houston.PNG'/><br>\n",
    "US traffic accident data was dropped into 300 rows only. The selection was based on data which have severity of 4 and have the longest traffic distance. The data was sorted into descending in traffic distance column and selected only 300 which have the longest traffic distance. <br>\n",
    "<br>\n",
    "Nearby venues was extracted from Foursquare using Foursquare API. Using Latitude and Longitude of the accident to call nearby venues. The specification of the call is nearby venues within radius of 500 metres from accident latitude and longitude. Extracted nearby venues then merged into original dataset. The venue data then use one-hot encoding pd.get_dummies for category binary labelling and grouped by accident id with sum() function to know the total venues category that appear in one coordinate.\n",
    "<br>\n",
    "<img src='Table Merged.PNG'/><br>\n",
    "Nearby venues table then merged with road features table to get cluster-ready data"
   ]
  },
  {
   "cell_type": "markdown",
   "metadata": {},
   "source": [
    "## 4.4 Clustering and Segmenting"
   ]
  },
  {
   "cell_type": "markdown",
   "metadata": {},
   "source": [
    "Clustering and Segmenting use SKLearn library. Because the data-ready still contains uneeded information (latitude and longitude), before segmenting and clustering, latitude and longitude was removed to gain pure data which can be clustered and segmented. Pure data then standardize before segmented and clustered to normalize distance between data value to gain more ideal cluster. <br>\n",
    "<br>\n",
    "<img src='Elbow Method True.PNG'/><br>\n",
    "Kmeans clustering algorithm from sklearn was used to cluster the model data, it is a common cluster algorithm used in python. The most optimal cluster is shown by elbow method diagram above. The most optimal cluster is shown by cluster where the slope decrease, cluster = 6."
   ]
  },
  {
   "cell_type": "markdown",
   "metadata": {},
   "source": [
    "# 5. Result"
   ]
  },
  {
   "cell_type": "markdown",
   "metadata": {},
   "source": [
    "From data analysis and modelling above we get result:\n",
    "1. Houston Traffic Accident from 2016 to June 2020 can be segmented and clustered into 6 cluster.<br>\n",
    "2. Houston Traffic Accident cluster can be seen in visualization below:<br> <img src='Houston Traffic Accident Cluster.PNG'/><br>\n",
    "3. The most nearby venues is mexican restaurant<br><img src='cluster most.PNG'/><br>"
   ]
  },
  {
   "cell_type": "markdown",
   "metadata": {},
   "source": [
    "# 6. Discussion"
   ]
  },
  {
   "cell_type": "markdown",
   "metadata": {},
   "source": [
    "US traffic accident data was dataset which was shared by Soobhan Moosavi in Kaggle it contains US accident data from 2016 to June 2020 which was extracted from navigation apps. In this analysis, the data was added by nearby venues to segment it into numbers of clusters. The most optimal cluster is 6 cluster.<br>\n",
    "<br>\n",
    "Clustering algorithm that was used is KMeans clustering and from the cluster some insight can be retrieved. Cluster not dependents of location compared to downtonwn. It is because not every road in downtown area of Houston City have same road featuere and nearby venues. This cluster and segmentation can help local governor to adjust policy based on the cluster.\n",
    "<br>\n",
    "<br>\n",
    "KMeans algorithm was used to cluster traffic accident. Kmeans algorithm is a common clustering algorithm which in general, it change the cluster centroid iteratively based on nearby datapoints coordinate. Because of this characteristics, if US accident data other columns such as weather, twilight and environment condition be included into model data, it will change the results.\n",
    "<br>\n",
    "<br>\n"
   ]
  },
  {
   "cell_type": "markdown",
   "metadata": {},
   "source": [
    "# 7. Conclusions"
   ]
  },
  {
   "cell_type": "markdown",
   "metadata": {},
   "source": [
    "The results of this report is there are optimum of 6 cluster of Houston City Traffic Accident. Venues that probably affect accident is Hotal, Restaurant, and Store, this is because if there is a mentioned venues nearby, many people will travel to that area and thus causing the probability of accident increasing.<br>\n",
    "<br>\n",
    "Almost all of the accident which have highest severity level are in highway or main road of Houston City. According to Road Feature data, main road/highway have a limited amount of road feature, this probably made accident severity worse. "
   ]
  },
  {
   "cell_type": "code",
   "execution_count": null,
   "metadata": {},
   "outputs": [],
   "source": []
  }
 ],
 "metadata": {
  "kernelspec": {
   "display_name": "Python 3",
   "language": "python",
   "name": "python3"
  },
  "language_info": {
   "codemirror_mode": {
    "name": "ipython",
    "version": 3
   },
   "file_extension": ".py",
   "mimetype": "text/x-python",
   "name": "python",
   "nbconvert_exporter": "python",
   "pygments_lexer": "ipython3",
   "version": "3.8.3"
  }
 },
 "nbformat": 4,
 "nbformat_minor": 4
}
